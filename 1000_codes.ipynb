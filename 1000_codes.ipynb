{
 "cells": [
  {
   "cell_type": "markdown",
   "metadata": {},
   "source": [
    "                                                            1000 Python Codes\n",
    "                                                            "
   ]
  },
  {
   "cell_type": "code",
   "execution_count": 6,
   "metadata": {},
   "outputs": [
    {
     "name": "stdout",
     "output_type": "stream",
     "text": [
      "Hello world\n",
      "hi world\n"
     ]
    }
   ],
   "source": [
    "print(\"Hello world\")\n",
    "print(\"hi world\")"
   ]
  },
  {
   "cell_type": "code",
   "execution_count": 7,
   "metadata": {},
   "outputs": [
    {
     "name": "stdout",
     "output_type": "stream",
     "text": [
      "Hello world hi world\n"
     ]
    }
   ],
   "source": [
    "print(\"Hello world\",end=\" \") ### default there us \\n in print we replace it with space\n",
    "print(\"hi world\")"
   ]
  },
  {
   "cell_type": "code",
   "execution_count": 8,
   "metadata": {},
   "outputs": [
    {
     "name": "stdout",
     "output_type": "stream",
     "text": [
      "Hello world-hi world\n",
      "Hello world+hi world\n"
     ]
    }
   ],
   "source": [
    "print(\"Hello world\",\"hi world\",sep=\"-\") \n",
    "print(\"Hello world\",\"hi world\",sep=\"+\") \n"
   ]
  },
  {
   "cell_type": "code",
   "execution_count": 9,
   "metadata": {},
   "outputs": [
    {
     "name": "stdout",
     "output_type": "stream",
     "text": [
      "Hello world\n"
     ]
    }
   ],
   "source": [
    "str = \"Hello world\"\n",
    "print(f\"{str}\")"
   ]
  },
  {
   "cell_type": "code",
   "execution_count": 10,
   "metadata": {},
   "outputs": [],
   "source": [
    "print(\"Hello World\",file=open(\"output.txt\",\"w\")) # write to the file\n",
    "print(\"Hello World\",file=open(\"output.txt\",\"a\")) # write to the file append to the file"
   ]
  },
  {
   "cell_type": "markdown",
   "metadata": {},
   "source": [
    "Playing with Python list"
   ]
  },
  {
   "cell_type": "code",
   "execution_count": 11,
   "metadata": {},
   "outputs": [
    {
     "name": "stdout",
     "output_type": "stream",
     "text": [
      "[]\n",
      "[1, 2, 3]\n"
     ]
    }
   ],
   "source": [
    "#creating the list\n",
    "mylist = []\n",
    "print(mylist)\n",
    "mylist.append(1)\n",
    "mylist.append(2)\n",
    "mylist.append(3)\n",
    "print(mylist)"
   ]
  },
  {
   "cell_type": "code",
   "execution_count": 12,
   "metadata": {},
   "outputs": [
    {
     "name": "stdout",
     "output_type": "stream",
     "text": [
      "[1, 2, 3, 1, 2, 3, 4, 5, 6]\n"
     ]
    }
   ],
   "source": [
    "mylist_2 = [1,2,3,4,5,6]\n",
    "mylist_3 = mylist + mylist_2\n",
    "print(mylist_3)"
   ]
  },
  {
   "cell_type": "code",
   "execution_count": 13,
   "metadata": {},
   "outputs": [
    {
     "name": "stdout",
     "output_type": "stream",
     "text": [
      "[1, 2, 3, 4, 5, 6, 7]\n"
     ]
    }
   ],
   "source": [
    "mylist.extend([4,5,6,7])\n",
    "print(mylist)"
   ]
  },
  {
   "cell_type": "code",
   "execution_count": 14,
   "metadata": {},
   "outputs": [
    {
     "name": "stdout",
     "output_type": "stream",
     "text": [
      "1\n",
      "[1, 2, 3, 4, 5, 6, 7]\n",
      "None\n",
      "[1, 2, 3, 4, 6, 7]\n"
     ]
    }
   ],
   "source": [
    "print(mylist.count(1))\n",
    "print(mylist)\n",
    "print(mylist.remove(5))\n",
    "print(mylist)"
   ]
  },
  {
   "cell_type": "code",
   "execution_count": 15,
   "metadata": {},
   "outputs": [
    {
     "name": "stdout",
     "output_type": "stream",
     "text": [
      "[1, 2, 3, 4, 6, 7]\n"
     ]
    }
   ],
   "source": [
    "mylist.sort()\n",
    "print(mylist)"
   ]
  },
  {
   "cell_type": "code",
   "execution_count": 16,
   "metadata": {},
   "outputs": [
    {
     "name": "stdout",
     "output_type": "stream",
     "text": [
      "[1, 2, 3, 4, 6, 7, 1, 2, 3, 4, 6, 7]\n",
      "[1, 2, 3, 4, 6, 7, 1, 2, 3, 4, 6, 7]\n"
     ]
    }
   ],
   "source": [
    "print(mylist * 2)\n",
    "print(mylist + mylist)\n"
   ]
  },
  {
   "cell_type": "code",
   "execution_count": 17,
   "metadata": {},
   "outputs": [],
   "source": [
    "mylist.clear()"
   ]
  },
  {
   "cell_type": "code",
   "execution_count": 18,
   "metadata": {},
   "outputs": [
    {
     "name": "stdout",
     "output_type": "stream",
     "text": [
      "[]\n"
     ]
    }
   ],
   "source": [
    "print(mylist)"
   ]
  },
  {
   "cell_type": "code",
   "execution_count": 19,
   "metadata": {},
   "outputs": [
    {
     "name": "stdout",
     "output_type": "stream",
     "text": [
      "[1, 2, 3, 4, 5]\n",
      "[1, 0, 2, 3, 4, 5]\n"
     ]
    }
   ],
   "source": [
    "mylist = [1, 2, 3, 4, 5]\n",
    "print(mylist)\n",
    "mylist.insert(1,0)\n",
    "print(mylist)"
   ]
  },
  {
   "cell_type": "code",
   "execution_count": 20,
   "metadata": {},
   "outputs": [
    {
     "name": "stdout",
     "output_type": "stream",
     "text": [
      "1\n"
     ]
    },
    {
     "data": {
      "text/plain": [
       "[1, 0, 2, 3, 4, 5]"
      ]
     },
     "execution_count": 20,
     "metadata": {},
     "output_type": "execute_result"
    }
   ],
   "source": [
    "print(mylist.index(0))\n",
    "mylist"
   ]
  },
  {
   "cell_type": "code",
   "execution_count": 21,
   "metadata": {},
   "outputs": [
    {
     "name": "stdout",
     "output_type": "stream",
     "text": [
      "[1, 2, 3, 4, 5]\n"
     ]
    }
   ],
   "source": [
    "mylist.pop(1)\n",
    "print(mylist)"
   ]
  },
  {
   "cell_type": "code",
   "execution_count": 22,
   "metadata": {},
   "outputs": [
    {
     "name": "stdout",
     "output_type": "stream",
     "text": [
      "[1, 2, 3, 4]\n"
     ]
    }
   ],
   "source": [
    "mylist.remove(5)\n",
    "print(mylist)"
   ]
  },
  {
   "cell_type": "code",
   "execution_count": 23,
   "metadata": {},
   "outputs": [
    {
     "data": {
      "text/plain": [
       "[4, 3, 2, 1]"
      ]
     },
     "execution_count": 23,
     "metadata": {},
     "output_type": "execute_result"
    }
   ],
   "source": [
    "mylist.reverse()\n",
    "mylist"
   ]
  },
  {
   "cell_type": "code",
   "execution_count": 24,
   "metadata": {},
   "outputs": [
    {
     "data": {
      "text/plain": [
       "10"
      ]
     },
     "execution_count": 24,
     "metadata": {},
     "output_type": "execute_result"
    }
   ],
   "source": [
    "sum(mylist)"
   ]
  },
  {
   "cell_type": "code",
   "execution_count": 25,
   "metadata": {},
   "outputs": [],
   "source": [
    "del mylist"
   ]
  },
  {
   "cell_type": "code",
   "execution_count": 26,
   "metadata": {},
   "outputs": [
    {
     "name": "stdout",
     "output_type": "stream",
     "text": [
      "{1: 0, 2: 0, 3: 0, 4: 0, 5: 0}\n"
     ]
    }
   ],
   "source": [
    "mylist = [1, 2, 3, 4, 5]\n",
    "mylist = dict.fromkeys(mylist,0)\n",
    "print(mylist)"
   ]
  },
  {
   "cell_type": "code",
   "execution_count": 27,
   "metadata": {},
   "outputs": [
    {
     "name": "stdout",
     "output_type": "stream",
     "text": [
      "{'name': 'John', 'age': 25, 'courses': ['Math', 'CompSci']}\n"
     ]
    }
   ],
   "source": [
    "student = {'name': 'John', 'age': 25, 'courses': ['Math', 'CompSci']}\n",
    "print(student)"
   ]
  },
  {
   "cell_type": "code",
   "execution_count": 28,
   "metadata": {},
   "outputs": [
    {
     "name": "stdout",
     "output_type": "stream",
     "text": [
      "John\n"
     ]
    }
   ],
   "source": [
    "print(student.get(\"name\",0))"
   ]
  },
  {
   "cell_type": "code",
   "execution_count": 29,
   "metadata": {},
   "outputs": [
    {
     "name": "stdout",
     "output_type": "stream",
     "text": [
      "0\n"
     ]
    }
   ],
   "source": [
    "print(student.get(\"test\",0))"
   ]
  },
  {
   "cell_type": "code",
   "execution_count": 30,
   "metadata": {},
   "outputs": [
    {
     "data": {
      "text/plain": [
       "dict_items([('name', 'John'), ('age', 25), ('courses', ['Math', 'CompSci'])])"
      ]
     },
     "execution_count": 30,
     "metadata": {},
     "output_type": "execute_result"
    }
   ],
   "source": [
    "student.items()"
   ]
  },
  {
   "cell_type": "code",
   "execution_count": 31,
   "metadata": {},
   "outputs": [
    {
     "name": "stdout",
     "output_type": "stream",
     "text": [
      "dict_keys(['name', 'age', 'courses'])\n",
      "dict_values(['John', 25, ['Math', 'CompSci']])\n",
      "dict_items([('name', 'John'), ('age', 25), ('courses', ['Math', 'CompSci'])])\n"
     ]
    }
   ],
   "source": [
    "print(student.keys())\n",
    "print(student.values())\n",
    "print(student.items())"
   ]
  },
  {
   "cell_type": "code",
   "execution_count": 32,
   "metadata": {},
   "outputs": [
    {
     "name": "stdout",
     "output_type": "stream",
     "text": [
      "Mustang\n",
      "Bronco\n"
     ]
    }
   ],
   "source": [
    "car = {\n",
    "  \"brand\": \"Ford\",\n",
    "  \"model\": \"Mustang\",\n",
    "  \"year\": 1964\n",
    "}\n",
    "\n",
    "x = car.setdefault(\"model\", \"Bronco\")\n",
    "\n",
    "print(x)\n",
    "\n",
    "car = {\n",
    "  \"brand\": \"Ford\",\n",
    " # \"model\": \"Mustang\",\n",
    "  \"year\": 1964\n",
    "}\n",
    "\n",
    "x = car.setdefault(\"model\", \"Bronco\")\n",
    "\n",
    "print(x)"
   ]
  },
  {
   "cell_type": "code",
   "execution_count": 33,
   "metadata": {},
   "outputs": [
    {
     "name": "stdout",
     "output_type": "stream",
     "text": [
      "{'year': 1964, 'model': 'Bronco'}\n"
     ]
    }
   ],
   "source": [
    "car.pop(\"brand\")\n",
    "print(car)"
   ]
  },
  {
   "cell_type": "code",
   "execution_count": 34,
   "metadata": {},
   "outputs": [
    {
     "data": {
      "text/plain": [
       "('model', 'Bronco')"
      ]
     },
     "execution_count": 34,
     "metadata": {},
     "output_type": "execute_result"
    }
   ],
   "source": [
    "car.popitem()"
   ]
  },
  {
   "cell_type": "code",
   "execution_count": 35,
   "metadata": {},
   "outputs": [
    {
     "data": {
      "text/plain": [
       "{'year': 1964}"
      ]
     },
     "execution_count": 35,
     "metadata": {},
     "output_type": "execute_result"
    }
   ],
   "source": [
    "car"
   ]
  },
  {
   "cell_type": "code",
   "execution_count": 36,
   "metadata": {},
   "outputs": [
    {
     "name": "stdout",
     "output_type": "stream",
     "text": [
      "{'brand': 'Ford', 'model': 'Mustang', 'year': 1964}\n"
     ]
    }
   ],
   "source": [
    "thisdict = {\n",
    "  \"brand\": \"Ford\",\n",
    "  \"model\": \"Mustang\",\n",
    "  \"year\": 1964\n",
    "}\n",
    "mydict = thisdict.copy()\n",
    "print(mydict)"
   ]
  },
  {
   "cell_type": "code",
   "execution_count": 37,
   "metadata": {},
   "outputs": [
    {
     "data": {
      "text/plain": [
       "{'brand': 'Ford', 'model': 'Mustang', 'year': 1964}"
      ]
     },
     "execution_count": 37,
     "metadata": {},
     "output_type": "execute_result"
    }
   ],
   "source": [
    "thisdict.update({\"brand\": \"toyota\"})\n",
    "thisdict\n",
    "mydict "
   ]
  },
  {
   "cell_type": "code",
   "execution_count": 38,
   "metadata": {},
   "outputs": [
    {
     "data": {
      "text/plain": [
       "{}"
      ]
     },
     "execution_count": 38,
     "metadata": {},
     "output_type": "execute_result"
    }
   ],
   "source": [
    "student.clear()\n",
    "student"
   ]
  },
  {
   "cell_type": "code",
   "execution_count": null,
   "metadata": {},
   "outputs": [],
   "source": []
  },
  {
   "cell_type": "markdown",
   "metadata": {},
   "source": [
    "100 Python Code Challenges done !!!\n"
   ]
  },
  {
   "cell_type": "code",
   "execution_count": 39,
   "metadata": {},
   "outputs": [
    {
     "name": "stdout",
     "output_type": "stream",
     "text": [
      "[1, 2, 3, 4, 5, 6, 7, 8, 9, 10, 11, 12, 13, 14, 15, 16, 17, 18, 19, 20, 21, 22, 23, 24, 25, 26, 27, 28, 29, 30, 31, 32, 33, 34, 35, 36, 37, 38, 39, 40, 41, 42, 43, 44, 45, 46, 47, 48, 49, 50, 51, 52, 53, 54, 55, 56, 57, 58, 59, 60, 61, 62, 63, 64, 65, 66, 67, 68, 69, 70, 71, 72, 73, 74, 75, 76, 77, 78, 79, 80, 81, 82, 83, 84, 85, 86, 87, 88, 89, 90, 91, 92, 93, 94, 95, 96, 97, 98, 99]\n"
     ]
    }
   ],
   "source": [
    "rng =  range(1,100)\n",
    "print(list(rng))\n"
   ]
  },
  {
   "cell_type": "code",
   "execution_count": 40,
   "metadata": {},
   "outputs": [
    {
     "name": "stdout",
     "output_type": "stream",
     "text": [
      "[1, 3, 5, 7, 9, 11, 13, 15, 17, 19, 21, 23, 25, 27, 29, 31, 33, 35, 37, 39, 41, 43, 45, 47, 49, 51, 53, 55, 57, 59, 61, 63, 65, 67, 69, 71, 73, 75, 77, 79, 81, 83, 85, 87, 89, 91, 93, 95, 97, 99]\n"
     ]
    }
   ],
   "source": [
    "rng =  range(1,100,2)\n",
    "print(list(rng))"
   ]
  },
  {
   "cell_type": "code",
   "execution_count": 41,
   "metadata": {},
   "outputs": [
    {
     "name": "stdout",
     "output_type": "stream",
     "text": [
      "[100, 98, 96, 94, 92, 90, 88, 86, 84, 82, 80, 78, 76, 74, 72, 70, 68, 66, 64, 62, 60, 58, 56, 54, 52, 50, 48, 46, 44, 42, 40, 38, 36, 34, 32, 30, 28, 26, 24, 22, 20, 18, 16, 14, 12, 10, 8, 6, 4, 2, 0, -2, -4, -6, -8]\n"
     ]
    }
   ],
   "source": [
    "rng =  range(100,-10,-2)\n",
    "print(list(rng))"
   ]
  },
  {
   "cell_type": "code",
   "execution_count": 42,
   "metadata": {},
   "outputs": [
    {
     "name": "stdout",
     "output_type": "stream",
     "text": [
      "2500\n"
     ]
    }
   ],
   "source": [
    "rng =  range(1,100,2)\n",
    "print(sum(list(rng)))"
   ]
  },
  {
   "cell_type": "markdown",
   "metadata": {},
   "source": []
  },
  {
   "cell_type": "code",
   "execution_count": 43,
   "metadata": {},
   "outputs": [
    {
     "name": "stdout",
     "output_type": "stream",
     "text": [
      "[0, 2, 4, 6, 8, 10, 12, 14, 16, 18]\n"
     ]
    }
   ],
   "source": [
    "###map function\n",
    "rng = list(range(10))\n",
    "list_of_map = map(lambda x: x*2,rng)\n",
    "print(list(list_of_map))"
   ]
  },
  {
   "cell_type": "code",
   "execution_count": 44,
   "metadata": {},
   "outputs": [
    {
     "name": "stdout",
     "output_type": "stream",
     "text": [
      "lenght - >  [6, 5, 4, 10]\n"
     ]
    }
   ],
   "source": [
    "words = [\"banana\", \"apple\", \"kiwi\", \"strawberry\"]\n",
    "\n",
    "words_map = map(lambda x: len(x), words)\n",
    "print(\"lenght - > \",list(words_map))"
   ]
  },
  {
   "cell_type": "markdown",
   "metadata": {},
   "source": [
    "###Filter function"
   ]
  },
  {
   "cell_type": "code",
   "execution_count": 3,
   "metadata": {},
   "outputs": [
    {
     "name": "stdout",
     "output_type": "stream",
     "text": [
      "['banana', 'strawberry']\n"
     ]
    }
   ],
   "source": [
    "words = [\"banana\", \"apple\", \"kiwi\", \"strawberry\"]\n",
    "filter_word = list(filter(lambda x: len(x) > 5, words))\n",
    "print(filter_word)"
   ]
  },
  {
   "cell_type": "code",
   "execution_count": 4,
   "metadata": {},
   "outputs": [
    {
     "name": "stdout",
     "output_type": "stream",
     "text": [
      "[{'name': 'Khn', 'age': 12}, {'name': 'Bob', 'age': 25}, {'name': 'Alice', 'age': 30}]\n"
     ]
    }
   ],
   "source": [
    "people = [{\"name\": \"Alice\", \"age\": 30}, {\"name\": \"Bob\", \"age\": 25},{\"name\": \"Khn\", \"age\": 12}]\n",
    "sorted_by_age = sorted(people, key=lambda x: x[\"age\"])\n",
    "print(sorted_by_age)"
   ]
  },
  {
   "cell_type": "code",
   "execution_count": 32,
   "metadata": {},
   "outputs": [],
   "source": [
    "import string\n",
    "text = \"\"\"\n",
    "Blossom in the gentle morning light, as hope awakens with each new dawn.\n",
    "Serenity lingers in the hush of the early hours, offering a promise of peace.\n",
    "The world unfolds its endless Wonder, calling for hearts to remain curious.\n",
    "An Echo of distant laughter reminds us that memories can linger across time.\n",
    "A cherished Dream awakens softly under the gentle glow of the rising sun.\n",
    "Flowers begin to Blossom once more, painting the world with radiant colors.\n",
    "Serenity envelops the moment, shielding fragile hopes from surrounding fears.\n",
    "Each day offers fresh Wonder, urging us to embrace the unknown path ahead.\n",
    "An Echo of whispered confessions lingers in quiet corners of the old library.\n",
    "In the twilight, a solitary Dream pulses with hope, refusing to fade into night.\n",
    "Across rolling hills, petals Blossom under a nurturing sky, fearless and bright.\n",
    "When doubt surrounds the mind, Serenity softly calms the storm within.\n",
    "In every breath, we discover hidden Wonder, shaped by our longing to learn.\n",
    "Seasons shift seamlessly, but flowers still Blossom with unwavering determination.\n",
    "Serenity grounds us in this chaos, an anchor we cling to in troubled waters.\n",
    "Under the vast expanse of starlight, we remember that each dusk births a new dawn.\n",
    "In quiet moments, we reflect on the bonds that sustain us through darkness.\n",
    "Gentle winds carry unspoken truths, guiding wandering hearts toward unity.\n",
    "Amid fleeting clouds, we sense the tender promise of change in every breath.\n",
    "At last, petals Blossom once again, a testament to life’s ceaseless cycle of renewal.\n",
    "\"\"\".lower().translate(str.maketrans('', '', string.punctuation))\n",
    "word_split = set(text.split())\n",
    "word_split_dict = dict.fromkeys(word_split, 0)\n",
    "word_split_dict = dict(word_split_dict)\n"
   ]
  },
  {
   "cell_type": "code",
   "execution_count": 33,
   "metadata": {},
   "outputs": [
    {
     "name": "stdout",
     "output_type": "stream",
     "text": [
      "<class 'dict'>\n",
      "{'in': 9, 'dawn': 2, 'waters': 1, 'world': 2, 'clouds': 1, 'seasons': 1, 'more': 1, 'remember': 1, 'guiding': 1, 'morning': 1, 'quiet': 2, 'starlight': 1, 'grounds': 1, 'sense': 1, 'every': 2, 'corners': 1, 'endless': 1, 'cherished': 1, 'births': 1, 'renewal': 1, 'day': 1, 'hush': 1, 'hope': 2, 'wandering': 1, 'cycle': 1, 'storm': 1, 'mind': 1, 'rising': 1, 'with': 4, 'hills': 1, 'when': 1, 'dream': 2, 'confessions': 1, 'but': 1, 'surrounding': 1, 'across': 2, 'can': 1, 'our': 1, 'to': 7, 'blossom': 5, 'a': 6, 'pulses': 1, 'last': 1, 'fresh': 1, 'new': 2, 'toward': 1, 'painting': 1, 'rolling': 1, 'colors': 1, 'radiant': 1, 'shaped': 1, 'truths': 1, 'and': 1, 'each': 3, 'once': 2, 'cling': 1, 'refusing': 1, 'bright': 1, 'promise': 2, 'dusk': 1, 'early': 1, 'calling': 1, 'serenity': 4, 'fade': 1, 'as': 1, 'we': 5, 'surrounds': 1, 'determination': 1, 'reminds': 1, 'solitary': 1, 'night': 1, 'distant': 1, 'an': 3, 'softly': 2, 'into': 1, 'curious': 1, 'within': 1, 'its': 1, 'discover': 1, 'breath': 2, 'life’s': 1, 'begin': 1, 'of': 9, 'nurturing': 1, 'doubt': 1, 'time': 1, 'testament': 1, 'library': 1, 'twilight': 1, 'hearts': 2, 'glow': 1, 'by': 1, 'us': 4, 'sustain': 1, 'laughter': 1, 'moments': 1, 'again': 1, 'chaos': 1, 'fearless': 1, 'peace': 1, 'petals': 2, 'unwavering': 1, 'for': 1, 'remain': 1, 'sun': 1, 'embrace': 1, 'longing': 1, 'fragile': 1, 'reflect': 1, 'learn': 1, 'that': 3, 'unfolds': 1, 'whispered': 1, 'path': 1, 'unity': 1, 'troubled': 1, 'old': 1, 'fears': 1, 'shift': 1, 'flowers': 2, 'sky': 1, 'winds': 1, 'under': 3, 'unspoken': 1, 'gentle': 3, 'fleeting': 1, 'shielding': 1, 'echo': 2, 'this': 1, 'ceaseless': 1, 'lingers': 2, 'offers': 1, 'hopes': 1, 'expanse': 1, 'on': 1, 'urging': 1, 'bonds': 1, 'darkness': 1, 'linger': 1, 'change': 1, 'carry': 1, 'offering': 1, 'unknown': 1, 'still': 1, 'ahead': 1, 'at': 1, 'vast': 1, 'hidden': 1, 'memories': 1, 'amid': 1, 'the': 16, 'tender': 1, 'seamlessly': 1, 'awakens': 2, 'anchor': 1, 'wonder': 3, 'from': 1, 'calms': 1, 'envelops': 1, 'through': 1, 'light': 1, 'moment': 1, 'hours': 1}\n"
     ]
    }
   ],
   "source": [
    "print(type(word_split_dict))\n",
    "for k,v in word_split_dict.items():\n",
    "    for word in text.split():\n",
    "        if word == k:\n",
    "            word_split_dict[k] += 1\n",
    "print(word_split_dict)"
   ]
  },
  {
   "cell_type": "code",
   "execution_count": 24,
   "metadata": {},
   "outputs": [
    {
     "name": "stdout",
     "output_type": "stream",
     "text": [
      "hello world blossom blossom\n"
     ]
    }
   ],
   "source": [
    "import string\n",
    "text = \"Hello, World! Blossom, blossom.\"\n",
    "clean_text = text.lower().translate(str.maketrans('', '', string.punctuation))\n",
    "print(clean_text)\n",
    "# Output: 'hello world blossom blossom'\n"
   ]
  },
  {
   "cell_type": "code",
   "execution_count": 28,
   "metadata": {},
   "outputs": [
    {
     "name": "stdout",
     "output_type": "stream",
     "text": [
      "{'blossom': 5, 'in': 9, 'the': 16, 'gentle': 3, 'morning': 1, 'light': 1, 'as': 1, 'hope': 2, 'awakens': 2, 'with': 4, 'each': 3, 'new': 2, 'dawn': 2, 'serenity': 4, 'lingers': 2, 'hush': 1, 'of': 9, 'early': 1, 'hours': 1, 'offering': 1, 'a': 6, 'promise': 2, 'peace': 1, 'world': 2, 'unfolds': 1, 'its': 1, 'endless': 1, 'wonder': 3, 'calling': 1, 'for': 1, 'hearts': 2, 'to': 7, 'remain': 1, 'curious': 1, 'an': 3, 'echo': 2, 'distant': 1, 'laughter': 1, 'reminds': 1, 'us': 4, 'that': 3, 'memories': 1, 'can': 1, 'linger': 1, 'across': 2, 'time': 1, 'cherished': 1, 'dream': 2, 'softly': 2, 'under': 3, 'glow': 1, 'rising': 1, 'sun': 1, 'flowers': 2, 'begin': 1, 'once': 2, 'more': 1, 'painting': 1, 'radiant': 1, 'colors': 1, 'envelops': 1, 'moment': 1, 'shielding': 1, 'fragile': 1, 'hopes': 1, 'from': 1, 'surrounding': 1, 'fears': 1, 'day': 1, 'offers': 1, 'fresh': 1, 'urging': 1, 'embrace': 1, 'unknown': 1, 'path': 1, 'ahead': 1, 'whispered': 1, 'confessions': 1, 'quiet': 2, 'corners': 1, 'old': 1, 'library': 1, 'twilight': 1, 'solitary': 1, 'pulses': 1, 'refusing': 1, 'fade': 1, 'into': 1, 'night': 1, 'rolling': 1, 'hills': 1, 'petals': 2, 'nurturing': 1, 'sky': 1, 'fearless': 1, 'and': 1, 'bright': 1, 'when': 1, 'doubt': 1, 'surrounds': 1, 'mind': 1, 'calms': 1, 'storm': 1, 'within': 1, 'every': 2, 'breath': 2, 'we': 5, 'discover': 1, 'hidden': 1, 'shaped': 1, 'by': 1, 'our': 1, 'longing': 1, 'learn': 1, 'seasons': 1, 'shift': 1, 'seamlessly': 1, 'but': 1, 'still': 1, 'unwavering': 1, 'determination': 1, 'grounds': 1, 'this': 1, 'chaos': 1, 'anchor': 1, 'cling': 1, 'troubled': 1, 'waters': 1, 'vast': 1, 'expanse': 1, 'starlight': 1, 'remember': 1, 'dusk': 1, 'births': 1, 'moments': 1, 'reflect': 1, 'on': 1, 'bonds': 1, 'sustain': 1, 'through': 1, 'darkness': 1, 'winds': 1, 'carry': 1, 'unspoken': 1, 'truths': 1, 'guiding': 1, 'wandering': 1, 'toward': 1, 'unity': 1, 'amid': 1, 'fleeting': 1, 'clouds': 1, 'sense': 1, 'tender': 1, 'change': 1, 'at': 1, 'last': 1, 'again': 1, 'testament': 1, 'life’s': 1, 'ceaseless': 1, 'cycle': 1, 'renewal': 1}\n"
     ]
    }
   ],
   "source": [
    "import string\n",
    "\n",
    "text = \"\"\"\n",
    "Blossom in the gentle morning light, as hope awakens with each new dawn.\n",
    "Serenity lingers in the hush of the early hours, offering a promise of peace.\n",
    "The world unfolds its endless Wonder, calling for hearts to remain curious.\n",
    "An Echo of distant laughter reminds us that memories can linger across time.\n",
    "A cherished Dream awakens softly under the gentle glow of the rising sun.\n",
    "Flowers begin to Blossom once more, painting the world with radiant colors.\n",
    "Serenity envelops the moment, shielding fragile hopes from surrounding fears.\n",
    "Each day offers fresh Wonder, urging us to embrace the unknown path ahead.\n",
    "An Echo of whispered confessions lingers in quiet corners of the old library.\n",
    "In the twilight, a solitary Dream pulses with hope, refusing to fade into night.\n",
    "Across rolling hills, petals Blossom under a nurturing sky, fearless and bright.\n",
    "When doubt surrounds the mind, Serenity softly calms the storm within.\n",
    "In every breath, we discover hidden Wonder, shaped by our longing to learn.\n",
    "Seasons shift seamlessly, but flowers still Blossom with unwavering determination.\n",
    "Serenity grounds us in this chaos, an anchor we cling to in troubled waters.\n",
    "Under the vast expanse of starlight, we remember that each dusk births a new dawn.\n",
    "In quiet moments, we reflect on the bonds that sustain us through darkness.\n",
    "Gentle winds carry unspoken truths, guiding wandering hearts toward unity.\n",
    "Amid fleeting clouds, we sense the tender promise of change in every breath.\n",
    "At last, petals Blossom once again, a testament to life’s ceaseless cycle of renewal.\n",
    "\"\"\"\n",
    "\n",
    "# Convert to lowercase and remove punctuation\n",
    "clean_text = text.lower().translate(str.maketrans('', '', string.punctuation))\n",
    "\n",
    "# Split into words\n",
    "words = clean_text.split()\n",
    "\n",
    "# Create dictionary to store counts\n",
    "word_count = {}\n",
    "\n",
    "# Count words\n",
    "for word in words:\n",
    "    word_count[word] = word_count.get(word, 0) + 1\n",
    "    #print(word_count[word])\n",
    "\n",
    "# Print word count\n",
    "print(word_count)\n"
   ]
  },
  {
   "cell_type": "code",
   "execution_count": 29,
   "metadata": {},
   "outputs": [
    {
     "name": "stdout",
     "output_type": "stream",
     "text": [
      "5\n"
     ]
    }
   ],
   "source": [
    "s = {'blossom': 5, 'in': 9, 'the': 16, 'gentle': 3}\n",
    "print(s[\"blossom\"])"
   ]
  },
  {
   "cell_type": "code",
   "execution_count": 30,
   "metadata": {},
   "outputs": [
    {
     "name": "stdout",
     "output_type": "stream",
     "text": [
      "{'blossom': 5, 'in': 9, 'the': 16, 'gentle': 3, 'test': 26}\n"
     ]
    }
   ],
   "source": [
    "s[\"test\"] = 26\n",
    "print(s)"
   ]
  },
  {
   "cell_type": "code",
   "execution_count": 31,
   "metadata": {},
   "outputs": [
    {
     "name": "stdout",
     "output_type": "stream",
     "text": [
      "{'blossom': 5, 'in': 9, 'the': 16, 'gentle': 3, 'test': 269}\n"
     ]
    }
   ],
   "source": [
    "s[\"test\"] = 269\n",
    "print(s)"
   ]
  },
  {
   "cell_type": "code",
   "execution_count": 10,
   "metadata": {},
   "outputs": [
    {
     "name": "stdout",
     "output_type": "stream",
     "text": [
      "{'d': 'No'}\n"
     ]
    }
   ],
   "source": [
    "s = {\"n\": 10, \"m\": 20, \"o\": 30}\n",
    "#Expected Service/Traffic Impact': \"Yes\" if x[1] == \"MDT\" else \"No\",\n",
    "        #    'VVVIP': is_vvvip,\n",
    "q = {\"d\": \"Yes\" if s[\"n\"] > 10 else \"No\"}\n",
    "print(q)"
   ]
  },
  {
   "cell_type": "code",
   "execution_count": 16,
   "metadata": {},
   "outputs": [
    {
     "name": "stdout",
     "output_type": "stream",
     "text": [
      "string\n"
     ]
    }
   ],
   "source": [
    "txt = \"str\" \n",
    "print(\"string\") if txt == \"str\" else print(\"not str\")\n"
   ]
  },
  {
   "cell_type": "code",
   "execution_count": 17,
   "metadata": {},
   "outputs": [
    {
     "name": "stdout",
     "output_type": "stream",
     "text": [
      "('Even', 'Odd')\n"
     ]
    }
   ],
   "source": [
    "a = 4\n",
    "b = 7\n",
    "\n",
    "result = (\"Even\" if a % 2 == 0 else \"Odd\", \"Even\" if b % 2 == 0 else \"Odd\")\n",
    "print(result)\n"
   ]
  },
  {
   "cell_type": "code",
   "execution_count": 18,
   "metadata": {},
   "outputs": [
    {
     "name": "stdout",
     "output_type": "stream",
     "text": [
      "{'Even'}\n"
     ]
    }
   ],
   "source": [
    "num = 8  # Change to test\n",
    "\n",
    "result = {\"Even\"} if num % 2 == 0 else {\"Odd\"}\n",
    "print(result)\n"
   ]
  },
  {
   "cell_type": "code",
   "execution_count": 19,
   "metadata": {},
   "outputs": [
    {
     "name": "stdout",
     "output_type": "stream",
     "text": [
      "{'Odd', 'Even'}\n"
     ]
    }
   ],
   "source": [
    "nums = [1, 2, 3, 4]\n",
    "\n",
    "result = {\"Even\" if num % 2 == 0 else \"Odd\" for num in nums}\n",
    "print(result)\n"
   ]
  },
  {
   "cell_type": "code",
   "execution_count": 1,
   "metadata": {},
   "outputs": [
    {
     "name": "stdout",
     "output_type": "stream",
     "text": [
      "{2, 4, 6, 8, 10}\n"
     ]
    }
   ],
   "source": [
    "result = {num for num in range(1, 11) if num % 2 == 0}\n",
    "print(result)\n"
   ]
  },
  {
   "cell_type": "code",
   "execution_count": null,
   "metadata": {},
   "outputs": [],
   "source": []
  },
  {
   "cell_type": "markdown",
   "metadata": {},
   "source": [
    "Threads allow parts of your program to run at the same time (concurrently), without blocking or stopping other parts of the program"
   ]
  },
  {
   "cell_type": "code",
   "execution_count": 8,
   "metadata": {},
   "outputs": [
    {
     "name": "stdout",
     "output_type": "stream",
     "text": [
      "Thread: T-minusMain Program is running... 0\n",
      " 10\n",
      "Main Program is running...Thread: T-minus 9\n",
      " 1\n",
      "Main Program is running...Thread: T-minus 8\n",
      " 2\n",
      "Thread: T-minusMain Program is running... 3\n",
      " 7\n",
      "Main Program is running... 4\n",
      "Thread: T-minus 6\n",
      "Thread: T-minus 5\n",
      "Thread: T-minus 4\n",
      "Thread: T-minus 3\n",
      "Thread: T-minus 2\n",
      "Thread: T-minus 1\n",
      "Both main program and thread are done!\n",
      "['Thread: T-minus 10', 'Thread: T-minus 9', 'Thread: T-minus 8', 'Thread: T-minus 7', 'Thread: T-minus 6', 'Thread: T-minus 5', 'Thread: T-minus 4', 'Thread: T-minus 3', 'Thread: T-minus 2', 'Thread: T-minus 1']\n",
      "['Thread: T-minus 0', 'Thread: T-minus 1', 'Thread: T-minus 2', 'Thread: T-minus 3', 'Thread: T-minus 4']\n"
     ]
    }
   ],
   "source": [
    "import time\n",
    "from threading import Thread\n",
    "\n",
    "# Function that runs in a separate thread\n",
    "\n",
    "\n",
    "f = {\"countdown\":[],\"main_program\":[]} # k,v \n",
    "def countdown(n):\n",
    "    while n > 0:\n",
    "        print('Thread: T-minus', n)\n",
    "        a = f'Thread: T-minus {n}'\n",
    "        n -= 1\n",
    "        time.sleep(1)\n",
    "        f['countdown'].append(a)\n",
    "        #collection_of_threads.append(a)  # Sleep 1 second\n",
    "\n",
    "# Main program\n",
    "def main_program():\n",
    "    for i in range(5):\n",
    "        print('Main Program is running...', i)\n",
    "        a = f'Thread: T-minus {i}'\n",
    "        time.sleep(1)\n",
    "        f['main_program'].append(a)  # Sleep 2 seconds\n",
    "\n",
    "# Create and start thread\n",
    "t = Thread(target=countdown, args=(10,))  # Countdown from 10\n",
    "t.start()  # Start the thread\n",
    "\n",
    "# Run main program\n",
    "main_program()\n",
    "\n",
    "# Optional: Wait for thread to finish (if needed)\n",
    "t.join()\n",
    "print(\"Both main program and thread are done!\")\n",
    "print(f['countdown'])\n",
    "print(f['main_program'])\n"
   ]
  },
  {
   "cell_type": "markdown",
   "metadata": {},
   "source": [
    "Unpacking a Sequence"
   ]
  },
  {
   "cell_type": "code",
   "execution_count": 11,
   "metadata": {},
   "outputs": [
    {
     "name": "stdout",
     "output_type": "stream",
     "text": [
      "1 2 3 4 5 6 7 8 9\n",
      "ACME 50 91.1\n",
      "(2012, 12, 21)\n"
     ]
    }
   ],
   "source": [
    "rng = list(range(1,10))\n",
    "rng\n",
    "a,b,c,d,e,f,g,h,i = rng\n",
    "print(a,b,c,d,e,f,g,h,i)\n",
    "data = [ 'ACME', 50, 91.1, (2012, 12, 21) ]\n",
    "a,b,c,_= data\n",
    "print(a,b,c)\n",
    "print(_)"
   ]
  }
 ],
 "metadata": {
  "kernelspec": {
   "display_name": "Python 3",
   "language": "python",
   "name": "python3"
  },
  "language_info": {
   "codemirror_mode": {
    "name": "ipython",
    "version": 3
   },
   "file_extension": ".py",
   "mimetype": "text/x-python",
   "name": "python",
   "nbconvert_exporter": "python",
   "pygments_lexer": "ipython3",
   "version": "3.11.3"
  }
 },
 "nbformat": 4,
 "nbformat_minor": 2
}
